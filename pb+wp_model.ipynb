{
 "cells": [
  {
   "cell_type": "code",
   "execution_count": 1,
   "metadata": {},
   "outputs": [],
   "source": [
    "# Imports\n",
    "import statcast_pitches\n",
    "import polars as pl\n",
    "import numpy as np\n",
    "import os\n",
    "import joblib\n",
    "\n",
    "from sklearn.model_selection import train_test_split\n",
    "from sklearn.calibration import CalibratedClassifierCV\n",
    "\n",
    "from imblearn.over_sampling import SMOTENC\n",
    "from catboost import CatBoostClassifier\n"
   ]
  },
  {
   "cell_type": "code",
   "execution_count": 2,
   "metadata": {},
   "outputs": [],
   "source": [
    "# Helper functions\n",
    "def load_passed_ball_data(years=None, data_dir=\"/Users/maxwassarman/baseball_work/api_scrape/passed_ball_data/\"):    \n",
    "    dfs = []\n",
    "    for year in years:\n",
    "        file_path = os.path.join(data_dir, f\"mlb_data_{year}.parquet\")\n",
    "        if os.path.exists(file_path):\n",
    "            df = pl.read_parquet(file_path)\n",
    "            dfs.append(df)\n",
    "    \n",
    "    if dfs:\n",
    "        return pl.concat(dfs)\n",
    "    \n",
    "def round_join_columns(df: pl.DataFrame, columns: list[str], precision: int = 4) -> pl.DataFrame:\n",
    "    return df.with_columns([\n",
    "        pl.col(c).round(precision).alias(c) for c in columns\n",
    "    ])\n",
    "\n",
    "def calculate_landing_points(x0, y0, z0, vx0, vy0, vz0, ax, ay, az):\n",
    "    discriminant = vz0**2 - 2*az*z0\n",
    "    sqrt_discriminant = np.sqrt(discriminant)\n",
    "    t1 = (-vz0 + sqrt_discriminant) / az\n",
    "    t2 = (-vz0 - sqrt_discriminant) / az\n",
    "    pos_root = max(t1, t2)\n",
    "    \n",
    "    x_landing = x0 + vx0*pos_root + 0.5*ax*pos_root**2\n",
    "    y_landing = y0 + vy0*pos_root + 0.5*ay*pos_root**2\n",
    "    \n",
    "    return x_landing, y_landing"
   ]
  },
  {
   "cell_type": "code",
   "execution_count": 3,
   "metadata": {},
   "outputs": [],
   "source": [
    "# Load and prepare statcast data (1 min)\n",
    "years = [2020,2021,2022,2023,2024,2025]\n",
    "\n",
    "pitches_df = (statcast_pitches.load()\n",
    "    .filter(pl.col(\"game_date\").dt.year().is_in(years),\n",
    "            pl.col(\"game_type\").is_in([\"R\", \"F\", \"D\", \"L\", \"W\"]))\n",
    "    .collect()\n",
    "    .unique(subset=[\"game_date\", \"game_pk\", \"at_bat_number\", \"pitch_number\"]) # For some reason some pitches had 2 identical rows\n",
    ")"
   ]
  },
  {
   "cell_type": "code",
   "execution_count": 4,
   "metadata": {},
   "outputs": [],
   "source": [
    "# Load passed ball data and join\n",
    "passed_ball_df = load_passed_ball_data(years=years)\n",
    "join_columns = [\"ax\", \"ay\", \"az\", \"vx0\", \"vy0\", \"vz0\"]\n",
    "passed_ball_slim = passed_ball_df.select([*join_columns, \"passed_ball\", \"wild_pitch\"])\n",
    "\n",
    "pitches_df = round_join_columns(pitches_df, join_columns, precision=4)\n",
    "passed_ball_slim = round_join_columns(passed_ball_slim, join_columns, precision=4)\n",
    "\n",
    "joined_df = (pitches_df.join(passed_ball_slim, on=join_columns, how=\"left\")\n",
    "    .with_columns(\n",
    "        pl.when((pl.col(\"passed_ball\") == True) | (pl.col(\"wild_pitch\") == True))\n",
    "        .then(1)\n",
    "        .otherwise(0)\n",
    "        .alias(\"is_pb_wp\")\n",
    "    )\n",
    ")\n",
    "\n",
    "# Add catcher mapping\n",
    "catcher_mapping = pl.read_csv(\"/Users/maxwassarman/baseball_work/api_scrape/catcher_mapping.csv\")\n",
    "joined_df = joined_df.join(catcher_mapping, left_on=\"fielder_2\", right_on=\"player_id\", how=\"left\")"
   ]
  },
  {
   "cell_type": "code",
   "execution_count": 5,
   "metadata": {},
   "outputs": [
    {
     "name": "stderr",
     "output_type": "stream",
     "text": [
      "/var/folders/8n/cvy2zw5j013f0b4bj6srsd880000gn/T/ipykernel_55984/2597112784.py:20: RuntimeWarning: invalid value encountered in sqrt\n",
      "  sqrt_discriminant = np.sqrt(discriminant)\n"
     ]
    }
   ],
   "source": [
    "# Calculate landing points (25 sec)\n",
    "data = joined_df.with_columns(\n",
    "    pl.struct([\"release_pos_x\", \"release_pos_y\", \"release_pos_z\", \n",
    "               \"vx0\", \"vy0\", \"vz0\", \"ax\", \"ay\", \"az\"])\n",
    "    .map_elements(lambda row: calculate_landing_points(\n",
    "        row[\"release_pos_x\"], row[\"release_pos_y\"], row[\"release_pos_z\"],\n",
    "        row[\"vx0\"], row[\"vy0\"], row[\"vz0\"],\n",
    "        row[\"ax\"], row[\"ay\"], row[\"az\"]\n",
    "    ), return_dtype=pl.List(pl.Float64))\n",
    "    .alias(\"landing_cords\")\n",
    ").with_columns([\n",
    "    pl.col(\"landing_cords\").list.get(0).alias(\"landing_x\"),\n",
    "    pl.col(\"landing_cords\").list.get(1).alias(\"landing_y\")\n",
    "]).filter(\n",
    "    ~pl.col(\"landing_x\").is_null() & ~pl.col(\"landing_y\").is_null()\n",
    ")"
   ]
  },
  {
   "cell_type": "code",
   "execution_count": 6,
   "metadata": {},
   "outputs": [],
   "source": [
    "# Catcher positioning logic\n",
    "fastball = [\"FF\", \"SI\", \"FC\", \"FT\"]\n",
    "offspeed = [\"CH\", \"FS\", \"SC\", \"FO\"]\n",
    "breaking = [\"ST\", \"SL\", \"GY\", \"SV\", \"CU\", \"KC\", \"KN\", \"CS\"]\n",
    "\n",
    "catcher_location = data.with_columns([\n",
    "    # Pitch categories\n",
    "    pl.when(pl.col(\"pitch_type\").is_in(fastball)).then(pl.lit(\"fastball\"))\n",
    "    .when(pl.col(\"pitch_type\").is_in(offspeed)).then(pl.lit(\"offspeed\"))\n",
    "    .when(pl.col(\"pitch_type\").is_in(breaking)).then(pl.lit(\"breaking\"))\n",
    "    .otherwise(pl.lit(\"other\"))\n",
    "    .alias(\"pitch_category\"),\n",
    "\n",
    "    # Handedness matchup\n",
    "    pl.when(pl.col(\"stand\") != pl.col(\"p_throws\")).then(pl.lit(\"opposite\"))\n",
    "    .otherwise(pl.lit(\"same\"))\n",
    "    .alias(\"handedness_matchup\"),\n",
    "\n",
    "    # Catcher location\n",
    "    pl.when((pl.col(\"pitch_type\").is_in(fastball)) | (pl.col(\"pitch_type\").is_in(offspeed)))\n",
    "    .then(pl.lit(\"middle\"))\n",
    "    .when((pl.col(\"pitch_type\").is_in(breaking)) & (pl.col(\"stand\") != pl.col(\"p_throws\")))\n",
    "    .then(pl.lit(\"middle\"))\n",
    "    .when((pl.col(\"pitch_type\").is_in(breaking)) & (pl.col(\"stand\") == \"L\") & \n",
    "          (pl.col(\"p_throws\") == \"L\") & (pl.col(\"strikes\") == 2))\n",
    "    .then(pl.lit(\"left\"))\n",
    "    .when((pl.col(\"pitch_type\").is_in(breaking)) & (pl.col(\"stand\") == \"R\") & \n",
    "          (pl.col(\"p_throws\") == \"R\") & (pl.col(\"strikes\") == 2))\n",
    "    .then(pl.lit(\"right\"))\n",
    "    .otherwise(pl.lit(\"middle\"))\n",
    "    .alias(\"catcher_location\")\n",
    "])\n",
    "\n",
    "# Convert catcher positioning to coordinates and calculate distances\n",
    "depth = -5.0 # Assuming the catcher sits 5 feet behind the tip of the plate\n",
    "lateral_mvmt = 8.5/12 # Distance to edge of plate from middle\n",
    "\n",
    "catcher_location_expanded = (catcher_location\n",
    "    .with_columns([\n",
    "        pl.when(pl.col(\"catcher_location\") == \"left\").then(-lateral_mvmt)\n",
    "        .when(pl.col(\"catcher_location\") == \"right\").then(lateral_mvmt)\n",
    "        .otherwise(0.0).alias(\"catcher_x\"),\n",
    "        pl.lit(depth).alias(\"catcher_y\")\n",
    "    ])\n",
    "    .with_columns([\n",
    "        ((pl.col(\"landing_x\") - pl.col(\"catcher_x\")) ** 2 +\n",
    "         (pl.col(\"landing_y\") - pl.col(\"catcher_y\")) ** 2).sqrt().alias(\"distance_to_catcher\"),\n",
    "        (pl.col(\"landing_x\") - pl.col(\"catcher_x\")).alias(\"lateral_distance\"),\n",
    "        (pl.col(\"landing_y\") - pl.col(\"catcher_y\")).alias(\"depth_distance\")\n",
    "    ])\n",
    ")"
   ]
  },
  {
   "cell_type": "code",
   "execution_count": 7,
   "metadata": {},
   "outputs": [],
   "source": [
    "filtered_data = catcher_location_expanded.filter(\n",
    "    (~pl.col(\"distance_to_catcher\").is_nan()),\n",
    "    (~pl.col(\"on_1b\").is_null()) | (~pl.col(\"on_2b\").is_null()) | (~pl.col(\"on_3b\").is_null()),\n",
    "    (pl.col(\"description\") != 'hit_by_pitch')\n",
    ")"
   ]
  },
  {
   "cell_type": "code",
   "execution_count": 8,
   "metadata": {},
   "outputs": [],
   "source": [
    "# Modeling (16 sec)\n",
    "features = [\n",
    "    \"lateral_distance\",\n",
    "    \"depth_distance\", \n",
    "    \"release_speed\", \n",
    "    \"pfx_x\",\n",
    "    \"pfx_z\",\n",
    "    \"p_throws\",\n",
    "    \"stand\",\n",
    "    \"pitch_type\"\n",
    "]\n",
    "\n",
    "model_data = (filtered_data.filter(pl.col(\"game_date\").dt.year().is_in([2020, 2021, 2022, 2023]))\n",
    "                .select([*features, \"is_pb_wp\"])\n",
    "            ).drop_nulls()\n",
    "\n",
    "X = model_data.drop(\"is_pb_wp\").to_numpy()\n",
    "y = model_data.select(\"is_pb_wp\").to_numpy().flatten()\n",
    "\n",
    "X_tr, X_t, y_tr, y_t = train_test_split(X, y, train_size=0.75, random_state=804)\n",
    "\n",
    "smotenc = SMOTENC(categorical_features=[5,6,7], random_state=804, k_neighbors=3)\n",
    "X_tr_smote, y_tr_smote = smotenc.fit_resample(X_tr, y_tr)"
   ]
  },
  {
   "cell_type": "code",
   "execution_count": 9,
   "metadata": {},
   "outputs": [
    {
     "data": {
      "text/plain": [
       "<catboost.core.CatBoostClassifier at 0x173f28590>"
      ]
     },
     "execution_count": 9,
     "metadata": {},
     "output_type": "execute_result"
    }
   ],
   "source": [
    "cb_block = CatBoostClassifier(\n",
    "    cat_features=[5,6,7],\n",
    "    iterations=3000,\n",
    "    random_seed=804,\n",
    "    verbose=250\n",
    ")\n",
    "\n",
    "#cb_block.fit(X_tr_smote, y_tr_smote, eval_set=(X_t, y_t))\n",
    "#cb_block.save_model('passed.cbm')\n",
    "cb_block.load_model('passed.cbm')"
   ]
  },
  {
   "cell_type": "code",
   "execution_count": 10,
   "metadata": {},
   "outputs": [],
   "source": [
    "#cb_calibrated = CalibratedClassifierCV(cb_block, method='isotonic', cv=5)\n",
    "#cb_calibrated.fit(X_t, y_t)  # Calibrate on validation set\n",
    "#joblib.dump(cb_calibrated, \"cb_calibrated.joblib\")\n",
    "cb_calibrated = joblib.load('passed_calibrated.joblib')"
   ]
  },
  {
   "cell_type": "code",
   "execution_count": 11,
   "metadata": {},
   "outputs": [],
   "source": [
    "passed_prob = cb_calibrated.predict_proba(\n",
    "    filtered_data.filter(pl.col(\"game_date\").dt.year() == 2025).select(features).to_numpy()\n",
    ")[:, 1]\n",
    "\n",
    "passed_25 = (filtered_data.filter(pl.col(\"game_date\").dt.year() == 2025)\n",
    "    .with_columns(pl.Series(name=\"pb_wp_prob_calibrated\", values=passed_prob))\n",
    ")"
   ]
  },
  {
   "cell_type": "code",
   "execution_count": 12,
   "metadata": {},
   "outputs": [],
   "source": [
    "raw_blocks_25 = (passed_25\n",
    "    .filter(~pl.col(\"name\").is_null())\n",
    "    .with_columns((pl.col(\"pb_wp_prob_calibrated\") - pl.col(\"is_pb_wp\")).alias(\"block_runs\"),\n",
    "                  (pl.col(\"name\")).alias(\"catcher_name\"),\n",
    "                  (pl.col(\"player_name\")).alias(\"pitcher_name\"))\n",
    "    .sort(\"block_runs\", descending=False)\n",
    "    .select(\"fielder_2\",\n",
    "            \"catcher_name\",\n",
    "            \"pitcher_name\", \n",
    "            \"game_date\", \n",
    "            \"pitch_type\", \n",
    "            \"release_speed\", \n",
    "            \"description\", \n",
    "            \"pfx_x\", \n",
    "            \"pfx_z\", \n",
    "            \"passed_ball\", \n",
    "            \"wild_pitch\", \n",
    "            \"is_pb_wp\", \n",
    "            \"lateral_distance\",\n",
    "            \"depth_distance\",\n",
    "            \"pb_wp_prob_calibrated\",\n",
    "            \"block_runs\")\n",
    ")"
   ]
  },
  {
   "cell_type": "code",
   "execution_count": 13,
   "metadata": {},
   "outputs": [],
   "source": [
    "catcher_rankings = (raw_blocks_25\n",
    "    .group_by(\"catcher_name\")\n",
    "    .agg([\n",
    "        pl.col(\"pb_wp_prob_calibrated\").sum().alias(\"expected_pb_wp\"),\n",
    "        pl.col(\"is_pb_wp\").sum().alias(\"actual_pb_wp\"),\n",
    "        pl.len().alias(\"total_pitches\")\n",
    "    ])\n",
    "    .with_columns((pl.col(\"expected_pb_wp\") - pl.col(\"actual_pb_wp\")).alias(\"baa\"))\n",
    "    .sort(\"baa\", descending=True)\n",
    ")\n",
    "\n",
    "ranks = catcher_rankings.to_numpy()"
   ]
  },
  {
   "cell_type": "code",
   "execution_count": 14,
   "metadata": {},
   "outputs": [
    {
     "name": "stdout",
     "output_type": "stream",
     "text": [
      "=== 2025 CATCHER PASSED BALL + WILD PITCH PREVENTION (BAA) ===\n",
      "TOP 10 (Best Prevention):\n",
      " Rk Catcher Name                   |      BAA   Actual   Expected Pitches\n",
      "-------------------------------------------------------------------------\n",
      "  1 Danny Jansen                   |    10.00        5       15.0   2946\n",
      "  2 Alejandro Kirk                 |     9.67       13       22.7   3737\n",
      "  3 Patrick Bailey                 |     9.28       13       22.3   3699\n",
      "  4 Dillon Dingler                 |     8.66       14       22.7   3615\n",
      "  5 Sean Murphy                    |     8.20        9       17.2   2827\n",
      "  6 William Contreras              |     7.35       21       28.3   4603\n",
      "  7 Christian Vázquez              |     7.22        7       14.2   2506\n",
      "  8 Carlos Narváez                 |     7.16       15       22.2   3843\n",
      "  9 Nick Fortes                    |     6.89        4       10.9   1879\n",
      " 10 Victor Caratini                |     6.56        4       10.6   1762\n",
      "\n",
      "BOTTOM 10 (Worst Prevention):\n",
      " Rk Catcher Name                   |      BAA   Actual   Expected Pitches\n",
      "-------------------------------------------------------------------------\n",
      " 88 Salvador Perez                 |   -11.27       26       14.7   2736\n",
      " 87 Keibert Ruiz                   |    -6.69       27       20.3   4256\n",
      " 86 Agustín Ramírez                |    -6.58       17       10.4   1753\n",
      " 85 Logan O'Hoppe                  |    -6.35       27       20.7   3773\n",
      " 84 Riley Adams                    |    -6.15       12        5.9   1543\n",
      " 83 Will Smith                     |    -6.05       32       25.9   3930\n",
      " 82 Kyle Higashioka                |    -4.73       13        8.3   1857\n",
      " 81 Braxton Fulford                |    -4.13       10        5.9    758\n",
      " 80 Sam Huff                       |    -3.92       10        6.1    944\n",
      " 79 Gary Sánchez                   |    -3.78       13        9.2   1453\n"
     ]
    }
   ],
   "source": [
    "# Display results\n",
    "print(\"=== 2025 CATCHER PASSED BALL + WILD PITCH PREVENTION (BAA) ===\")\n",
    "\n",
    "# Top 10\n",
    "print(\"TOP 10 (Best Prevention):\")\n",
    "header = f\"{'Rk':>3} {'Catcher Name':30} | {'BAA':>8} {'Actual':>8} {'Expected':>10} {'Pitches':>6}\\n\"\n",
    "print(header + '-' * (len(header) - 1))\n",
    "\n",
    "for i, r in enumerate(ranks[:10]):\n",
    "    name, expected, actual, pitches, baa = r[0], r[1], int(r[2]), int(r[3]), r[4]\n",
    "    print(f\"{i+1:3} {name:30} | {baa:8.2f} {actual:8} {expected:10.1f} {pitches:6}\")\n",
    "\n",
    "# Bottom 10\n",
    "print(f\"\\nBOTTOM 10 (Worst Prevention):\")\n",
    "print(header + '-' * (len(header) - 1))\n",
    "\n",
    "for i, r in enumerate(reversed(ranks[-10:])):\n",
    "    name, expected, actual, pitches, baa = r[0], r[1], int(r[2]), int(r[3]), r[4]\n",
    "    rank = len(ranks) - i\n",
    "    print(f\"{rank:3} {name:30} | {baa:8.2f} {actual:8} {expected:10.1f} {pitches:6}\")"
   ]
  }
 ],
 "metadata": {
  "kernelspec": {
   "display_name": "baseball",
   "language": "python",
   "name": "python3"
  },
  "language_info": {
   "codemirror_mode": {
    "name": "ipython",
    "version": 3
   },
   "file_extension": ".py",
   "mimetype": "text/x-python",
   "name": "python",
   "nbconvert_exporter": "python",
   "pygments_lexer": "ipython3",
   "version": "3.12.2"
  },
  "orig_nbformat": 4
 },
 "nbformat": 4,
 "nbformat_minor": 2
}
